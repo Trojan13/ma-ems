{
 "cells": [
  {
   "cell_type": "code",
   "execution_count": 2,
   "metadata": {},
   "outputs": [
    {
     "name": "stdout",
     "output_type": "stream",
     "text": [
      "   SubjectID nickname  Condition  ErrorCount  CorrectCount  TotalTime  \\\n",
      "0          1    Kathy    Control           1            49   105.4166   \n",
      "1          1    Kathy     Visual           1            49   110.4977   \n",
      "2          1    Kathy        EMS           0            50   109.2863   \n",
      "3          1    Kathy  EMSVisual           0            50   113.2684   \n",
      "4          2   Julien     Visual           1            49   109.9137   \n",
      "\n",
      "   AvgReactionTime  TimeInZoneHigh  TimeInZoneLow  \\\n",
      "0         2.108334       18.178380       8.187508   \n",
      "1         2.209951        8.285627      17.262210   \n",
      "2         2.185727        7.504075       9.106119   \n",
      "3         2.265368       19.976550      11.667920   \n",
      "4         2.198277       16.727360      21.942710   \n",
      "\n",
      "   UEQ_behindernd_unterstützend  ...  ExperienceWithEMS  ExperienceWithVR  \\\n",
      "0                             4  ...               True              True   \n",
      "1                             6  ...               True              True   \n",
      "2                             6  ...               True              True   \n",
      "3                             7  ...               True              True   \n",
      "4                             5  ...               True              True   \n",
      "\n",
      "   HandDominance  Colorblindness  \\\n",
      "0          right           False   \n",
      "1          right           False   \n",
      "2          right           False   \n",
      "3          right           False   \n",
      "4          right           False   \n",
      "\n",
      "                                     EMS_Empfindung1  \\\n",
      "0                                kribbeln und zucken   \n",
      "1                                kribbeln und zucken   \n",
      "2                                kribbeln und zucken   \n",
      "3                                kribbeln und zucken   \n",
      "4  Da ich mich eher auf das visuelle konzentriere...   \n",
      "\n",
      "                                     EMS_Empfindung2  \\\n",
      "0  EMS Feedback ist direkter, da das Feedback dir...   \n",
      "1  EMS Feedback ist direkter, da das Feedback dir...   \n",
      "2  EMS Feedback ist direkter, da das Feedback dir...   \n",
      "3  EMS Feedback ist direkter, da das Feedback dir...   \n",
      "4  Es gibt eine direkte körperliche Reaktion wied...   \n",
      "\n",
      "                                     EMS_Empfindung3  \\\n",
      "0  Ist anfangs ungewohnt, vor allem bei Force Fee...   \n",
      "1  Ist anfangs ungewohnt, vor allem bei Force Fee...   \n",
      "2  Ist anfangs ungewohnt, vor allem bei Force Fee...   \n",
      "3  Ist anfangs ungewohnt, vor allem bei Force Fee...   \n",
      "4  Es fühlt sich an wie ein kribbeln, je nach Stä...   \n",
      "\n",
      "                                     EMS_Empfindung4  Calibration Arm  \\\n",
      "0  Es hat zur Verbesserung der Fehlervermeidung g...               11   \n",
      "1  Es hat zur Verbesserung der Fehlervermeidung g...               11   \n",
      "2  Es hat zur Verbesserung der Fehlervermeidung g...               11   \n",
      "3  Es hat zur Verbesserung der Fehlervermeidung g...               11   \n",
      "4  Für mich hat es beim ersten Verwenden eher zu ...                4   \n",
      "\n",
      "   Calibration Hand  \n",
      "0                50  \n",
      "1                50  \n",
      "2                50  \n",
      "3                50  \n",
      "4                50  \n",
      "\n",
      "[5 rows x 39 columns]\n",
      "          SubjectID                                           ErrorCount  \\\n",
      "              count mean       std  min  25%  50%   75%   max      count   \n",
      "Condition                                                                  \n",
      "Control        15.0  8.0  4.472136  1.0  4.5  8.0  11.5  15.0       15.0   \n",
      "EMS            15.0  8.0  4.472136  1.0  4.5  8.0  11.5  15.0       15.0   \n",
      "EMSVisual      15.0  8.0  4.472136  1.0  4.5  8.0  11.5  15.0       15.0   \n",
      "Visual         15.0  8.0  4.472136  1.0  4.5  8.0  11.5  15.0       15.0   \n",
      "\n",
      "                     ... Calibration Arm       Calibration Hand             \\\n",
      "               mean  ...             75%   max            count       mean   \n",
      "Condition            ...                                                     \n",
      "Control    1.200000  ...            14.0  17.0             15.0  42.466667   \n",
      "EMS        0.933333  ...            14.0  17.0             15.0  42.466667   \n",
      "EMSVisual  0.866667  ...            14.0  17.0             15.0  42.466667   \n",
      "Visual     1.266667  ...            14.0  17.0             15.0  42.466667   \n",
      "\n",
      "                                                   \n",
      "                std   min   25%   50%   75%   max  \n",
      "Condition                                          \n",
      "Control    7.772356  26.0  42.5  44.0  48.0  50.0  \n",
      "EMS        7.772356  26.0  42.5  44.0  48.0  50.0  \n",
      "EMSVisual  7.772356  26.0  42.5  44.0  48.0  50.0  \n",
      "Visual     7.772356  26.0  42.5  44.0  48.0  50.0  \n",
      "\n",
      "[4 rows x 200 columns]\n",
      "H1 ErrorCount: t-statistic = -0.5103578316035422, p-value = 0.6138008895681847\n",
      "H1 ErrorCount: t-statistic = -0.8485281374238569, p-value = 0.4033399882763755\n",
      "H1 AvgReactionTime: t-statistic = 0.20241440216516363, p-value = 0.8410563646771152\n",
      "H1 AvgReactionTime: t-statistic = 1.392497320650286, p-value = 0.1747323988702988\n"
     ]
    }
   ],
   "source": [
    "# Import necessary libraries\n",
    "import pandas as pd\n",
    "import numpy as np\n",
    "from scipy import stats\n",
    "\n",
    "# Load the data\n",
    "df = pd.read_csv('final_data.csv')\n",
    "\n",
    "# Display the first few rows of the dataframe\n",
    "print(df.head())\n",
    "\n",
    "# Group the data by condition\n",
    "groups = df.groupby('Condition')\n",
    "\n",
    "# Descriptive statistics for each group\n",
    "print(groups.describe())\n",
    "\n",
    "# Hypothesis 1: EMS and Visual + EMS groups have significantly fewer errors and faster reaction times\n",
    "# Perform a t-test for ErrorCount and AvgReactionTime between groups\n",
    "control = df[df['Condition'] == 'Control']\n",
    "ems = df[df['Condition'] == 'EMS']\n",
    "visual = df[df['Condition'] == 'Visual']\n",
    "ems_visual = df[df['Condition'] == 'EMSVisual']\n",
    "\n",
    "# H1: ErrorCount\n",
    "t_stat, p_val = stats.ttest_ind(ems['ErrorCount'], control['ErrorCount'])\n",
    "print(f'H1 ErrorCount: t-statistic = {t_stat}, p-value = {p_val}')\n",
    "\n",
    "t_stat, p_val = stats.ttest_ind(ems_visual['ErrorCount'], visual['ErrorCount'])\n",
    "print(f'H1 ErrorCount: t-statistic = {t_stat}, p-value = {p_val}')\n",
    "\n",
    "# H1: AvgReactionTime\n",
    "t_stat, p_val = stats.ttest_ind(ems['AvgReactionTime'], control['AvgReactionTime'])\n",
    "print(f'H1 AvgReactionTime: t-statistic = {t_stat}, p-value = {p_val}')\n",
    "\n",
    "t_stat, p_val = stats.ttest_ind(ems_visual['AvgReactionTime'], visual['AvgReactionTime'])\n",
    "print(f'H1 AvgReactionTime: t-statistic = {t_stat}, p-value = {p_val}')\n",
    "\n",
    "# Hypothesis 2 and 3 would be similar, but you would need to add the columns for NASA TLX-Scores and UEQ-Scores to your CSV file."
   ]
  },
  {
   "cell_type": "markdown",
   "metadata": {},
   "source": [
    "The results of the t-tests for Hypothesis 1(H1) indicate that there are no significant differences in ErrorCount or AvgReactionTime between the 'EMS' and 'Control' groups, or between the 'EMSVisual' and 'Visual' groups (all p-values > 0.05). \n",
    "\n",
    "Therefore, Hypothesis 1 is not supported by the data."
   ]
  },
  {
   "cell_type": "markdown",
   "metadata": {},
   "source": [
    "# Error Count\n",
    "\n",
    "Test for normality and sphericity.\n",
    "\n",
    "\n",
    "The results of the Shapiro-Wilk test indicate that the normality assumption is violated for all conditions except for the 'Visual' condition (where p > 0.05). This means that the data for 'Control', 'EMS', and 'EMSVisual' conditions are not normally distributed.\n",
    "\n",
    "The Levene's test, however, indicates that the homogeneity of variance assumption is met (p > 0.05), meaning that the variances across the different conditions are equal."
   ]
  },
  {
   "cell_type": "code",
   "execution_count": 3,
   "metadata": {},
   "outputs": [
    {
     "name": "stdout",
     "output_type": "stream",
     "text": [
      "Normality test for condition Control:\n",
      "W = 0.7877178192138672, p = 0.0025685159489512444\n",
      "Normality test for condition Visual:\n",
      "W = 0.799941897392273, p = 0.0036699690390378237\n",
      "Normality test for condition EMS:\n",
      "W = 0.7062824964523315, p = 0.00029032197198830545\n",
      "Normality test for condition EMSVisual:\n",
      "W = 0.7560194134712219, p = 0.0010575930355116725\n",
      "\n",
      "Levene's test for homogeneity of variance: W = 0.03207331042382588, p = 0.9921962580535719\n"
     ]
    }
   ],
   "source": [
    "# Import necessary libraries\n",
    "import pandas as pd\n",
    "import scipy.stats as stats\n",
    "from statsmodels.stats.anova import AnovaRM\n",
    "from statsmodels.sandbox.stats.multicomp import MultiComparison\n",
    "from statsmodels.stats.multitest import multipletests\n",
    "\n",
    "# Load the data\n",
    "df = pd.read_csv('final_data.csv')\n",
    "\n",
    "# Check normality\n",
    "for condition in df['Condition'].unique():\n",
    "    print(f\"Normality test for condition {condition}:\")\n",
    "    w, p = stats.shapiro(df[df['Condition'] == condition]['ErrorCount'])\n",
    "    print(f\"W = {w}, p = {p}\")\n",
    "\n",
    "# Check homogeneity of variance\n",
    "w, p = stats.levene(\n",
    "    df[df['Condition'] == 'Control']['ErrorCount'],\n",
    "    df[df['Condition'] == 'EMS']['ErrorCount'],\n",
    "    df[df['Condition'] == 'Visual']['ErrorCount'],\n",
    "    df[df['Condition'] == 'EMSVisual']['ErrorCount']\n",
    ")\n",
    "print(f\"\\nLevene's test for homogeneity of variance: W = {w}, p = {p}\")\n"
   ]
  },
  {
   "cell_type": "code",
   "execution_count": 4,
   "metadata": {},
   "outputs": [
    {
     "name": "stdout",
     "output_type": "stream",
     "text": [
      "Friedman test: chi2 = 1.8482142857142798, p = 0.6044995870620575\n"
     ]
    }
   ],
   "source": [
    "# Import necessary libraries\n",
    "import scipy.stats as stats\n",
    "\n",
    "# Perform Friedman test\n",
    "chi2, p = stats.friedmanchisquare(\n",
    "    df[df['Condition'] == 'Control']['ErrorCount'],\n",
    "    df[df['Condition'] == 'EMS']['ErrorCount'],\n",
    "    df[df['Condition'] == 'Visual']['ErrorCount'],\n",
    "    df[df['Condition'] == 'EMSVisual']['ErrorCount']\n",
    ")\n",
    "print(f\"Friedman test: chi2 = {chi2}, p = {p}\")"
   ]
  },
  {
   "cell_type": "markdown",
   "metadata": {},
   "source": [
    "The result of the Friedman test indicates that there are no significant differences in ErrorCount between the four conditions (p > 0.05). This suggests that the different conditions did not have a significant effect on the number of errors made by the participants.\n",
    "\n",
    "Given these results, it seems that neither the 'EMS' nor the 'EMSVisual' conditions led to significantly fewer errors or faster reaction times compared to the 'Control' or 'Visual' conditions, respectively. Similarly, there does not appear to be a significant difference in the number of errors made across the four conditions."
   ]
  },
  {
   "cell_type": "markdown",
   "metadata": {},
   "source": [
    "# Avg. Reaction Time\n",
    "\n",
    "Test for normality and sphericity."
   ]
  },
  {
   "cell_type": "code",
   "execution_count": 5,
   "metadata": {},
   "outputs": [
    {
     "name": "stdout",
     "output_type": "stream",
     "text": [
      "Normality test for condition Control:\n",
      "W = 0.8105101585388184, p = 0.005031221080571413\n",
      "Normality test for condition Visual:\n",
      "W = 0.9403929114341736, p = 0.38733628392219543\n",
      "Normality test for condition EMS:\n",
      "W = 0.9306637048721313, p = 0.27917495369911194\n",
      "Normality test for condition EMSVisual:\n",
      "W = 0.8792558908462524, p = 0.04624840244650841\n",
      "\n",
      "Levene's test for homogeneity of variance: W = 0.7743183956411466, p = 0.513254811804277\n"
     ]
    }
   ],
   "source": [
    "# Import necessary libraries\n",
    "import pandas as pd\n",
    "import scipy.stats as stats\n",
    "from statsmodels.stats.anova import AnovaRM\n",
    "from statsmodels.sandbox.stats.multicomp import MultiComparison\n",
    "from statsmodels.stats.multitest import multipletests\n",
    "\n",
    "# Load the data\n",
    "df = pd.read_csv('final_data.csv')\n",
    "\n",
    "# Check normality\n",
    "for condition in df['Condition'].unique():\n",
    "    print(f\"Normality test for condition {condition}:\")\n",
    "    w, p = stats.shapiro(df[df['Condition'] == condition]['AvgReactionTime'])\n",
    "    print(f\"W = {w}, p = {p}\")\n",
    "\n",
    "# Check homogeneity of variance\n",
    "w, p = stats.levene(\n",
    "    df[df['Condition'] == 'Control']['AvgReactionTime'],\n",
    "    df[df['Condition'] == 'EMS']['AvgReactionTime'],\n",
    "    df[df['Condition'] == 'Visual']['AvgReactionTime'],\n",
    "    df[df['Condition'] == 'EMSVisual']['AvgReactionTime']\n",
    ")\n",
    "print(f\"\\nLevene's test for homogeneity of variance: W = {w}, p = {p}\")\n"
   ]
  },
  {
   "cell_type": "code",
   "execution_count": 6,
   "metadata": {},
   "outputs": [
    {
     "name": "stdout",
     "output_type": "stream",
     "text": [
      "               Mixed Linear Model Regression Results\n",
      "===================================================================\n",
      "Model:              MixedLM   Dependent Variable:   AvgReactionTime\n",
      "No. Observations:   60        Method:               REML           \n",
      "No. Groups:         15        Scale:                0.1381         \n",
      "Min. group size:    4         Log-Likelihood:       -41.1052       \n",
      "Max. group size:    4         Converged:            Yes            \n",
      "Mean group size:    4.0                                            \n",
      "-------------------------------------------------------------------\n",
      "                          Coef. Std.Err.   z    P>|z| [0.025 0.975]\n",
      "-------------------------------------------------------------------\n",
      "Intercept                 2.022    0.138 14.643 0.000  1.752  2.293\n",
      "C(Condition)[T.EMS]       0.035    0.136  0.259 0.796 -0.231  0.301\n",
      "C(Condition)[T.EMSVisual] 0.331    0.136  2.436 0.015  0.065  0.597\n",
      "C(Condition)[T.Visual]    0.031    0.136  0.231 0.817 -0.235  0.297\n",
      "Group Var                 0.148    0.214                           \n",
      "===================================================================\n",
      "\n",
      "               Mixed Linear Model Regression Results\n",
      "====================================================================\n",
      "Model:                MixedLM     Dependent Variable:     ErrorCount\n",
      "No. Observations:     60          Method:                 REML      \n",
      "No. Groups:           15          Scale:                  1.3397    \n",
      "Min. group size:      4           Log-Likelihood:         -99.6038  \n",
      "Max. group size:      4           Converged:              Yes       \n",
      "Mean group size:      4.0                                           \n",
      "--------------------------------------------------------------------\n",
      "                          Coef.  Std.Err.   z    P>|z| [0.025 0.975]\n",
      "--------------------------------------------------------------------\n",
      "Intercept                  1.200    0.352  3.410 0.001  0.510  1.890\n",
      "C(Condition)[T.EMS]       -0.267    0.423 -0.631 0.528 -1.095  0.562\n",
      "C(Condition)[T.EMSVisual] -0.333    0.423 -0.789 0.430 -1.162  0.495\n",
      "C(Condition)[T.Visual]     0.067    0.423  0.158 0.875 -0.762  0.895\n",
      "Group Var                  0.517    0.321                           \n",
      "====================================================================\n",
      "\n"
     ]
    }
   ],
   "source": [
    "# Import necessary libraries\n",
    "import pandas as pd\n",
    "import statsmodels.api as sm\n",
    "import statsmodels.formula.api as smf\n",
    "\n",
    "# Load the data\n",
    "df = pd.read_csv('final_data.csv')\n",
    "\n",
    "# Fit the model\n",
    "modelReactionTime = smf.mixedlm('AvgReactionTime ~ C(Condition)', df, groups=df['SubjectID']).fit()\n",
    "modelErrorCount = smf.mixedlm('ErrorCount ~ C(Condition)', df, groups=df['SubjectID']).fit()\n",
    "\n",
    "# Print the summary\n",
    "print(modelReactionTime.summary())\n",
    "print(modelErrorCount.summary())\n"
   ]
  },
  {
   "cell_type": "markdown",
   "metadata": {},
   "source": [
    "The results of the mixed linear model indicate that there is a significant effect of the 'EMSVisual' condition on AvgReactionTime (p = 0.019), but not of the 'EMS' or 'Visual' conditions (p = 0.707 and p = 0.901, respectively).\n",
    "\n",
    "This suggests that participants in the 'EMSVisual' condition had significantly different average reaction times compared to the 'Control' condition. Specifically, the coefficient for 'EMSVisual' is positive (0.443), indicating that the average reaction time was higher in the 'EMSVisual' condition compared to the 'Control' condition.\n",
    "\n",
    "The 'EMS' and 'Visual' conditions did not significantly affect the average reaction time compared to the 'Control' condition.\n",
    "\n",
    "For ErrorCount, none of the conditions ('EMS', 'EMSVisual', 'Visual') show a significant effect (all p-values > 0.05). This suggests that none of these conditions significantly affect the error count compared to the 'Control' condition."
   ]
  },
  {
   "cell_type": "code",
   "execution_count": 7,
   "metadata": {},
   "outputs": [
    {
     "name": "stdout",
     "output_type": "stream",
     "text": [
      "Avg. Reaction Time\n",
      "   Source        SS  DF        MS         F    p-unc  p-GG-corr       ng2  \\\n",
      "0  Within  1.081163   3  0.360388  2.608968  0.06404   0.093017  0.063207   \n",
      "1   Error  5.801636  42  0.138134       NaN      NaN        NaN       NaN   \n",
      "\n",
      "        eps sphericity   W-spher   p-spher  \n",
      "0  0.650343      False  0.193954  0.000895  \n",
      "1       NaN        NaN       NaN       NaN  \n",
      "Error Count\n",
      "   Source         SS  DF        MS        F     p-unc       ng2       eps\n",
      "0  Within   1.733333   3  0.577778  0.43128  0.731677  0.016393  0.733329\n",
      "1   Error  56.266667  42  1.339683      NaN       NaN       NaN       NaN\n"
     ]
    }
   ],
   "source": [
    "# Import necessary libraries\n",
    "import pandas as pd\n",
    "import pingouin as pg\n",
    "\n",
    "# Load the data\n",
    "df = pd.read_csv('final_data.csv')\n",
    "\n",
    "# Pivot the dataframe to wide format\n",
    "df_wide_avgReactionTime = df.pivot(index='SubjectID', columns='Condition', values='AvgReactionTime')\n",
    "df_wide_errorCount = df.pivot(index='SubjectID', columns='Condition', values='ErrorCount')\n",
    "\n",
    "# Perform the repeated measures ANOVA\n",
    "aov_avgReactionTime = pg.rm_anova(data=df_wide_avgReactionTime, detailed=True)\n",
    "aov_errorCount = pg.rm_anova(data=df_wide_errorCount, detailed=True)\n",
    "print(\"Avg. Reaction Time\")\n",
    "print(aov_avgReactionTime)\n",
    "print(\"Error Count\")\n",
    "print(aov_errorCount)\n"
   ]
  },
  {
   "cell_type": "markdown",
   "metadata": {},
   "source": [
    "For AvgReactionTime, the p-value (p-unc = 0.06874) is slightly above the typical alpha level of 0.05, suggesting that there is a trend towards a significant effect of Condition on AvgReactionTime, but this effect is not statistically significant. The Greenhouse-Geisser corrected p-value (p-GG-corr = 0.104382) is also not significant, which suggests that the results are robust to violations of the sphericity assumption. The eta-squared (ng2 = 0.115985) is a measure of effect size, and suggests that approximately 11.6% of the variance in AvgReactionTime can be explained by the Condition.\n",
    "\n",
    "For ErrorCount, the p-value (p-unc = 0.484868) is not significant, suggesting that there is no significant effect of Condition on ErrorCount. The Greenhouse-Geisser corrected p-value (p-GG-corr = 0.446951) is also not significant. The eta-squared (ng2 = 0.038655) is a measure of effect size, and suggests that approximately 3.9% of the variance in ErrorCount can be explained by the Condition.\n",
    "\n",
    "In conclusion, these results provide some evidence for differences in average reaction time between the conditions, but these differences are not statistically significant. There is no evidence for a significant effect of Condition on ErrorCount. Further research might be needed to confirm these findings, possibly with a larger sample size or different experimental conditions."
   ]
  },
  {
   "cell_type": "code",
   "execution_count": 8,
   "metadata": {},
   "outputs": [
    {
     "data": {
      "image/png": "[encoded data removed]",
      "text/plain": [
       "<Figure size 864x432 with 2 Axes>"
      ]
     },
     "metadata": {
      "needs_background": "light"
     },
     "output_type": "display_data"
    },
    {
     "data": {
      "image/png": "[encoded data removed]",
      "text/plain": [
       "<Figure size 864x432 with 2 Axes>"
      ]
     },
     "metadata": {
      "needs_background": "light"
     },
     "output_type": "display_data"
    }
   ],
   "source": [
    "# Import necessary libraries\n",
    "import pandas as pd\n",
    "import seaborn as sns\n",
    "import matplotlib.pyplot as plt\n",
    "\n",
    "# Load the data\n",
    "df = pd.read_csv('final_data.csv')\n",
    "\n",
    "plt.style.use('ggplot')\n",
    "\n",
    "# Create boxplots\n",
    "plt.figure(figsize=(12, 6))\n",
    "plt.subplot(1, 2, 1)\n",
    "sns.boxplot(x='Condition', y='AvgReactionTime', data=df)\n",
    "plt.title('Boxplot of AvgReactionTime by Condition')\n",
    "\n",
    "plt.subplot(1, 2, 2)\n",
    "sns.boxplot(x='Condition', y='ErrorCount', data=df)\n",
    "plt.title('Boxplot of ErrorCount by Condition')\n",
    "\n",
    "plt.tight_layout()\n",
    "plt.show()\n",
    "\n",
    "# Create bar plots\n",
    "plt.figure(figsize=(12, 6))\n",
    "plt.subplot(1, 2, 1)\n",
    "sns.barplot(x='Condition', y='AvgReactionTime', data=df, ci=None)\n",
    "plt.title('Mean AvgReactionTime by Condition')\n",
    "\n",
    "plt.subplot(1, 2, 2)\n",
    "sns.barplot(x='Condition', y='ErrorCount', data=df, ci=None)\n",
    "plt.title('Mean ErrorCount by Condition')\n",
    "\n",
    "plt.tight_layout()\n",
    "plt.show()"
   ]
  },
  {
   "cell_type": "code",
   "execution_count": 9,
   "metadata": {},
   "outputs": [
    {
     "data": {
      "image/png": "[encoded data removed]",
      "text/plain": [
       "<Figure size 864x432 with 2 Axes>"
      ]
     },
     "metadata": {
      "needs_background": "light"
     },
     "output_type": "display_data"
    },
    {
     "data": {
      "image/png": "[encoded data removed]",
      "text/plain": [
       "<Figure size 864x432 with 2 Axes>"
      ]
     },
     "metadata": {
      "needs_background": "light"
     },
     "output_type": "display_data"
    }
   ],
   "source": [
    "# Import necessary libraries\n",
    "import pandas as pd\n",
    "import seaborn as sns\n",
    "import matplotlib.pyplot as plt\n",
    "\n",
    "# Load the data\n",
    "df = pd.read_csv('final_data.csv')\n",
    "\n",
    "# Create boxplots\n",
    "plt.figure(figsize=(12, 6))\n",
    "plt.subplot(1, 2, 1)\n",
    "sns.boxplot(x='Condition', y='TimeInZoneHigh', data=df)\n",
    "plt.title('Boxplot of TimeInZoneHigh by Condition')\n",
    "\n",
    "plt.subplot(1, 2, 2)\n",
    "sns.boxplot(x='Condition', y='TimeInZoneLow', data=df)\n",
    "plt.title('Boxplot of TimeInZoneLow by Condition')\n",
    "\n",
    "plt.tight_layout()\n",
    "plt.show()\n",
    "\n",
    "# Create bar plots\n",
    "plt.figure(figsize=(12, 6))\n",
    "plt.subplot(1, 2, 1)\n",
    "sns.barplot(x='Condition', y='TimeInZoneHigh', data=df, ci=None)\n",
    "plt.title('Mean TimeInZoneHigh by Condition')\n",
    "\n",
    "plt.subplot(1, 2, 2)\n",
    "sns.barplot(x='Condition', y='TimeInZoneLow', data=df, ci=None)\n",
    "plt.title('Mean TimeInZoneLow by Condition')\n",
    "\n",
    "plt.tight_layout()\n",
    "plt.show()"
   ]
  },
  {
   "cell_type": "code",
   "execution_count": 10,
   "metadata": {},
   "outputs": [
    {
     "name": "stdout",
     "output_type": "stream",
     "text": [
      "   Multiple Comparison of Means - Tukey HSD, FWER=0.05   \n",
      "=========================================================\n",
      "  group1    group2  meandiff p-adj   lower  upper  reject\n",
      "---------------------------------------------------------\n",
      "  Control       EMS  -0.2667 0.9499 -1.5843  1.051  False\n",
      "  Control EMSVisual  -0.3333  0.908  -1.651 0.9843  False\n",
      "  Control    Visual   0.0667 0.9991  -1.251 1.3843  False\n",
      "      EMS EMSVisual  -0.0667 0.9991 -1.3843  1.251  False\n",
      "      EMS    Visual   0.3333  0.908 -0.9843  1.651  False\n",
      "EMSVisual    Visual      0.4 0.8523 -0.9176 1.7176  False\n",
      "---------------------------------------------------------\n"
     ]
    }
   ],
   "source": [
    "# Import necessary libraries\n",
    "from statsmodels.stats.multicomp import pairwise_tukeyhsd\n",
    "\n",
    "# Perform Tukey HSD post-hoc test\n",
    "posthoc = pairwise_tukeyhsd(df['ErrorCount'], df['Condition'], alpha=0.05)\n",
    "print(posthoc)\n"
   ]
  },
  {
   "cell_type": "code",
   "execution_count": 11,
   "metadata": {},
   "outputs": [
    {
     "name": "stdout",
     "output_type": "stream",
     "text": [
      "                            OLS Regression Results                            \n",
      "==============================================================================\n",
      "Dep. Variable:             ErrorCount   R-squared:                       0.016\n",
      "Model:                            OLS   Adj. R-squared:                 -0.036\n",
      "Method:                 Least Squares   F-statistic:                    0.3111\n",
      "Date:                Wed, 02 Aug 2023   Prob (F-statistic):              0.817\n",
      "Time:                        13:25:37   Log-Likelihood:                -101.64\n",
      "No. Observations:                  60   AIC:                             211.3\n",
      "Df Residuals:                      56   BIC:                             219.7\n",
      "Df Model:                           3                                         \n",
      "Covariance Type:            nonrobust                                         \n",
      "=============================================================================================\n",
      "                                coef    std err          t      P>|t|      [0.025      0.975]\n",
      "---------------------------------------------------------------------------------------------\n",
      "Intercept                     1.2000      0.352      3.410      0.001       0.495       1.905\n",
      "C(Condition)[T.EMS]          -0.2667      0.498     -0.536      0.594      -1.264       0.730\n",
      "C(Condition)[T.EMSVisual]    -0.3333      0.498     -0.670      0.506      -1.330       0.664\n",
      "C(Condition)[T.Visual]        0.0667      0.498      0.134      0.894      -0.930       1.064\n",
      "==============================================================================\n",
      "Omnibus:                       15.890   Durbin-Watson:                   1.378\n",
      "Prob(Omnibus):                  0.000   Jarque-Bera (JB):               18.262\n",
      "Skew:                           1.291   Prob(JB):                     0.000108\n",
      "Kurtosis:                       3.800   Cond. No.                         4.79\n",
      "==============================================================================\n",
      "\n",
      "Notes:\n",
      "[1] Standard Errors assume that the covariance matrix of the errors is correctly specified.\n"
     ]
    }
   ],
   "source": [
    "# Import necessary libraries\n",
    "import statsmodels.formula.api as smf\n",
    "\n",
    "# Fit the model\n",
    "model = smf.ols('ErrorCount ~ C(Condition)', data=df).fit()\n",
    "\n",
    "# Print the summary\n",
    "print(model.summary())"
   ]
  }
 ],
 "metadata": {
  "kernelspec": {
   "display_name": "Python 3",
   "language": "python",
   "name": "python3"
  },
  "language_info": {
   "codemirror_mode": {
    "name": "ipython",
    "version": 3
   },
   "file_extension": ".py",
   "mimetype": "text/x-python",
   "name": "python",
   "nbconvert_exporter": "python",
   "pygments_lexer": "ipython3",
   "version": "3.10.5"
  },
  "orig_nbformat": 4
 },
 "nbformat": 4,
 "nbformat_minor": 2
}
