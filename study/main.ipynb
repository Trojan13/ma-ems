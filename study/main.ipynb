{
 "cells": [
  {
   "cell_type": "code",
   "execution_count": 2,
   "metadata": {},
   "outputs": [
    {
     "name": "stdout",
     "output_type": "stream",
     "text": [
      "   SubjectID nickname  Condition  ErrorCount  CorrectCount  TotalTime  \\\n",
      "0          1    Kathy    Control           1            49   105.4166   \n",
      "1          1    Kathy     Visual           1            49   110.4977   \n",
      "2          1    Kathy        EMS           0            50   109.2863   \n",
      "3          1    Kathy  EMSVisual           0            50   113.2684   \n",
      "4          2   Julien     Visual           1            49   109.9137   \n",
      "\n",
      "   AvgReactionTime  TimeInZoneHigh  TimeInZoneLow  \n",
      "0         2.108334       18.178380       8.187508  \n",
      "1         2.209951        8.285627      17.262210  \n",
      "2         2.185727        7.504075       9.106119  \n",
      "3         2.265368       19.976550      11.667920  \n",
      "4         2.198277       16.727360      21.942710  \n",
      "          SubjectID                                           ErrorCount       \\\n",
      "              count mean      std  min   25%  50%   75%   max      count mean   \n",
      "Condition                                                                       \n",
      "Control        10.0  5.5  3.02765  1.0  3.25  5.5  7.75  10.0       10.0  1.1   \n",
      "EMS            10.0  5.5  3.02765  1.0  3.25  5.5  7.75  10.0       10.0  1.3   \n",
      "EMSVisual      10.0  5.5  3.02765  1.0  3.25  5.5  7.75  10.0       10.0  0.7   \n",
      "Visual         10.0  5.5  3.02765  1.0  3.25  5.5  7.75  10.0       10.0  1.4   \n",
      "\n",
      "           ... TimeInZoneHigh           TimeInZoneLow                       \\\n",
      "           ...            75%       max         count       mean       std   \n",
      "Condition  ...                                                               \n",
      "Control    ...      23.834407  32.50398          10.0  10.814222  8.538601   \n",
      "EMS        ...      29.903985  40.19720          10.0   9.179925  7.051482   \n",
      "EMSVisual  ...      28.187283  35.05123          10.0   9.095942  5.826777   \n",
      "Visual     ...      22.787793  34.03177          10.0  11.221938  7.699414   \n",
      "\n",
      "                                                              \n",
      "                min       25%       50%        75%       max  \n",
      "Condition                                                     \n",
      "Control    2.826844  5.798369  6.837493  12.585322  26.82832  \n",
      "EMS        0.934048  3.298444  9.855519  11.129820  24.69890  \n",
      "EMSVisual  1.126179  4.882013  9.161814  13.395917  18.74423  \n",
      "Visual     1.195905  6.226281  7.881305  16.843418  23.29245  \n",
      "\n",
      "[4 rows x 56 columns]\n",
      "H1 ErrorCount: t-statistic = 0.29631887899487686, p-value = 0.7703782907439787\n",
      "H1 ErrorCount: t-statistic = -1.2024565020591231, p-value = 0.24476666469637726\n",
      "H1 AvgReactionTime: t-statistic = 0.32053091581123183, p-value = 0.7522571217835293\n",
      "H1 AvgReactionTime: t-statistic = 1.751207115170136, p-value = 0.09693234212524647\n"
     ]
    }
   ],
   "source": [
    "# Import necessary libraries\n",
    "import pandas as pd\n",
    "import numpy as np\n",
    "from scipy import stats\n",
    "\n",
    "# Load the data\n",
    "df = pd.read_csv('data.csv')\n",
    "\n",
    "# Display the first few rows of the dataframe\n",
    "print(df.head())\n",
    "\n",
    "# Group the data by condition\n",
    "groups = df.groupby('Condition')\n",
    "\n",
    "# Descriptive statistics for each group\n",
    "print(groups.describe())\n",
    "\n",
    "# Hypothesis 1: EMS and Visual + EMS groups have significantly fewer errors and faster reaction times\n",
    "# Perform a t-test for ErrorCount and AvgReactionTime between groups\n",
    "control = df[df['Condition'] == 'Control']\n",
    "ems = df[df['Condition'] == 'EMS']\n",
    "visual = df[df['Condition'] == 'Visual']\n",
    "ems_visual = df[df['Condition'] == 'EMSVisual']\n",
    "\n",
    "# H1: ErrorCount\n",
    "t_stat, p_val = stats.ttest_ind(ems['ErrorCount'], control['ErrorCount'])\n",
    "print(f'H1 ErrorCount: t-statistic = {t_stat}, p-value = {p_val}')\n",
    "\n",
    "t_stat, p_val = stats.ttest_ind(ems_visual['ErrorCount'], visual['ErrorCount'])\n",
    "print(f'H1 ErrorCount: t-statistic = {t_stat}, p-value = {p_val}')\n",
    "\n",
    "# H1: AvgReactionTime\n",
    "t_stat, p_val = stats.ttest_ind(ems['AvgReactionTime'], control['AvgReactionTime'])\n",
    "print(f'H1 AvgReactionTime: t-statistic = {t_stat}, p-value = {p_val}')\n",
    "\n",
    "t_stat, p_val = stats.ttest_ind(ems_visual['AvgReactionTime'], visual['AvgReactionTime'])\n",
    "print(f'H1 AvgReactionTime: t-statistic = {t_stat}, p-value = {p_val}')\n",
    "\n",
    "# Hypothesis 2 and 3 would be similar, but you would need to add the columns for NASA TLX-Scores and UEQ-Scores to your CSV file."
   ]
  },
  {
   "cell_type": "markdown",
   "metadata": {},
   "source": [
    "The results of the t-tests for Hypothesis 1(H1) indicate that there are no significant differences in ErrorCount or AvgReactionTime between the 'EMS' and 'Control' groups, or between the 'EMSVisual' and 'Visual' groups (all p-values > 0.05). \n",
    "\n",
    "Therefore, Hypothesis 1 is not supported by the data."
   ]
  },
  {
   "cell_type": "markdown",
   "metadata": {},
   "source": [
    "# Error Count\n",
    "\n",
    "Test for normality and sphericity.\n",
    "\n",
    "\n",
    "The results of the Shapiro-Wilk test indicate that the normality assumption is violated for all conditions except for the 'Visual' condition (where p > 0.05). This means that the data for 'Control', 'EMS', and 'EMSVisual' conditions are not normally distributed.\n",
    "\n",
    "The Levene's test, however, indicates that the homogeneity of variance assumption is met (p > 0.05), meaning that the variances across the different conditions are equal."
   ]
  },
  {
   "cell_type": "code",
   "execution_count": 6,
   "metadata": {},
   "outputs": [
    {
     "name": "stdout",
     "output_type": "stream",
     "text": [
      "Normality test for condition Control:\n",
      "W = 0.7749409079551697, p = 0.007183539215475321\n",
      "Normality test for condition Visual:\n",
      "W = 0.8488086462020874, p = 0.05622288957238197\n",
      "Normality test for condition EMS:\n",
      "W = 0.8058674335479736, p = 0.017084049060940742\n",
      "Normality test for condition EMSVisual:\n",
      "W = 0.623032808303833, p = 0.00010420189937576652\n",
      "\n",
      "Levene's test for homogeneity of variance: W = 0.22105263157894747, p = 0.8811395045200913\n"
     ]
    }
   ],
   "source": [
    "# Import necessary libraries\n",
    "import pandas as pd\n",
    "import scipy.stats as stats\n",
    "from statsmodels.stats.anova import AnovaRM\n",
    "from statsmodels.sandbox.stats.multicomp import MultiComparison\n",
    "from statsmodels.stats.multitest import multipletests\n",
    "\n",
    "# Load the data\n",
    "df = pd.read_csv('data.csv')\n",
    "\n",
    "# Check normality\n",
    "for condition in df['Condition'].unique():\n",
    "    print(f\"Normality test for condition {condition}:\")\n",
    "    w, p = stats.shapiro(df[df['Condition'] == condition]['ErrorCount'])\n",
    "    print(f\"W = {w}, p = {p}\")\n",
    "\n",
    "# Check homogeneity of variance\n",
    "w, p = stats.levene(\n",
    "    df[df['Condition'] == 'Control']['ErrorCount'],\n",
    "    df[df['Condition'] == 'EMS']['ErrorCount'],\n",
    "    df[df['Condition'] == 'Visual']['ErrorCount'],\n",
    "    df[df['Condition'] == 'EMSVisual']['ErrorCount']\n",
    ")\n",
    "print(f\"\\nLevene's test for homogeneity of variance: W = {w}, p = {p}\")\n"
   ]
  },
  {
   "cell_type": "code",
   "execution_count": 7,
   "metadata": {},
   "outputs": [
    {
     "name": "stdout",
     "output_type": "stream",
     "text": [
      "Friedman test: chi2 = 5.619718309859128, p = 0.13165092339327872\n"
     ]
    }
   ],
   "source": [
    "# Import necessary libraries\n",
    "import scipy.stats as stats\n",
    "\n",
    "# Perform Friedman test\n",
    "chi2, p = stats.friedmanchisquare(\n",
    "    df[df['Condition'] == 'Control']['ErrorCount'],\n",
    "    df[df['Condition'] == 'EMS']['ErrorCount'],\n",
    "    df[df['Condition'] == 'Visual']['ErrorCount'],\n",
    "    df[df['Condition'] == 'EMSVisual']['ErrorCount']\n",
    ")\n",
    "print(f\"Friedman test: chi2 = {chi2}, p = {p}\")"
   ]
  },
  {
   "cell_type": "markdown",
   "metadata": {},
   "source": [
    "The result of the Friedman test indicates that there are no significant differences in ErrorCount between the four conditions (p > 0.05). This suggests that the different conditions did not have a significant effect on the number of errors made by the participants.\n",
    "\n",
    "Given these results, it seems that neither the 'EMS' nor the 'EMSVisual' conditions led to significantly fewer errors or faster reaction times compared to the 'Control' or 'Visual' conditions, respectively. Similarly, there does not appear to be a significant difference in the number of errors made across the four conditions."
   ]
  },
  {
   "cell_type": "markdown",
   "metadata": {},
   "source": [
    "# Avg. Reaction Time\n",
    "\n",
    "Test for normality and sphericity."
   ]
  },
  {
   "cell_type": "code",
   "execution_count": 8,
   "metadata": {},
   "outputs": [
    {
     "name": "stdout",
     "output_type": "stream",
     "text": [
      "Normality test for condition Control:\n",
      "W = 0.8194633722305298, p = 0.024966204538941383\n",
      "Normality test for condition Visual:\n",
      "W = 0.8930650949478149, p = 0.18355511128902435\n",
      "Normality test for condition EMS:\n",
      "W = 0.9366786479949951, p = 0.516681432723999\n",
      "Normality test for condition EMSVisual:\n",
      "W = 0.9026888608932495, p = 0.23444467782974243\n",
      "\n",
      "Levene's test for homogeneity of variance: W = 0.9641279050535161, p = 0.420216166310606\n"
     ]
    }
   ],
   "source": [
    "# Import necessary libraries\n",
    "import pandas as pd\n",
    "import scipy.stats as stats\n",
    "from statsmodels.stats.anova import AnovaRM\n",
    "from statsmodels.sandbox.stats.multicomp import MultiComparison\n",
    "from statsmodels.stats.multitest import multipletests\n",
    "\n",
    "# Load the data\n",
    "df = pd.read_csv('data.csv')\n",
    "\n",
    "# Check normality\n",
    "for condition in df['Condition'].unique():\n",
    "    print(f\"Normality test for condition {condition}:\")\n",
    "    w, p = stats.shapiro(df[df['Condition'] == condition]['AvgReactionTime'])\n",
    "    print(f\"W = {w}, p = {p}\")\n",
    "\n",
    "# Check homogeneity of variance\n",
    "w, p = stats.levene(\n",
    "    df[df['Condition'] == 'Control']['AvgReactionTime'],\n",
    "    df[df['Condition'] == 'EMS']['AvgReactionTime'],\n",
    "    df[df['Condition'] == 'Visual']['AvgReactionTime'],\n",
    "    df[df['Condition'] == 'EMSVisual']['AvgReactionTime']\n",
    ")\n",
    "print(f\"\\nLevene's test for homogeneity of variance: W = {w}, p = {p}\")\n"
   ]
  },
  {
   "cell_type": "code",
   "execution_count": 14,
   "metadata": {},
   "outputs": [
    {
     "name": "stdout",
     "output_type": "stream",
     "text": [
      "               Mixed Linear Model Regression Results\n",
      "====================================================================\n",
      "Model:               MixedLM   Dependent Variable:   AvgReactionTime\n",
      "No. Observations:    40        Method:               REML           \n",
      "No. Groups:          10        Scale:                0.1778         \n",
      "Min. group size:     4         Log-Likelihood:       -30.5354       \n",
      "Max. group size:     4         Converged:            Yes            \n",
      "Mean group size:     4.0                                            \n",
      "--------------------------------------------------------------------\n",
      "                          Coef.  Std.Err.   z    P>|z| [0.025 0.975]\n",
      "--------------------------------------------------------------------\n",
      "Intercept                  2.166    0.173 12.513 0.000  1.827  2.505\n",
      "C(Condition)[T.EMS]        0.071    0.189  0.376 0.707 -0.299  0.441\n",
      "C(Condition)[T.EMSVisual]  0.443    0.189  2.348 0.019  0.073  0.812\n",
      "C(Condition)[T.Visual]    -0.023    0.189 -0.124 0.901 -0.393  0.346\n",
      "Group Var                  0.122    0.215                           \n",
      "====================================================================\n",
      "\n",
      "               Mixed Linear Model Regression Results\n",
      "====================================================================\n",
      "Model:                MixedLM     Dependent Variable:     ErrorCount\n",
      "No. Observations:     40          Method:                 REML      \n",
      "No. Groups:           10          Scale:                  1.1435    \n",
      "Min. group size:      4           Log-Likelihood:         -64.2797  \n",
      "Max. group size:      4           Converged:              Yes       \n",
      "Mean group size:      4.0                                           \n",
      "--------------------------------------------------------------------\n",
      "                          Coef.  Std.Err.   z    P>|z| [0.025 0.975]\n",
      "--------------------------------------------------------------------\n",
      "Intercept                  1.100    0.446  2.468 0.014  0.227  1.973\n",
      "C(Condition)[T.EMS]        0.200    0.478  0.418 0.676 -0.737  1.137\n",
      "C(Condition)[T.EMSVisual] -0.400    0.478 -0.836 0.403 -1.337  0.537\n",
      "C(Condition)[T.Visual]     0.300    0.478  0.627 0.530 -0.637  1.237\n",
      "Group Var                  0.843    0.574                           \n",
      "====================================================================\n",
      "\n"
     ]
    }
   ],
   "source": [
    "# Import necessary libraries\n",
    "import pandas as pd\n",
    "import statsmodels.api as sm\n",
    "import statsmodels.formula.api as smf\n",
    "\n",
    "# Load the data\n",
    "df = pd.read_csv('data.csv')\n",
    "\n",
    "# Fit the model\n",
    "modelReactionTime = smf.mixedlm('AvgReactionTime ~ C(Condition)', df, groups=df['SubjectID']).fit()\n",
    "modelErrorCount = smf.mixedlm('ErrorCount ~ C(Condition)', df, groups=df['SubjectID']).fit()\n",
    "\n",
    "# Print the summary\n",
    "print(modelReactionTime.summary())\n",
    "print(modelErrorCount.summary())\n"
   ]
  },
  {
   "cell_type": "markdown",
   "metadata": {},
   "source": [
    "The results of the mixed linear model indicate that there is a significant effect of the 'EMSVisual' condition on AvgReactionTime (p = 0.019), but not of the 'EMS' or 'Visual' conditions (p = 0.707 and p = 0.901, respectively).\n",
    "\n",
    "This suggests that participants in the 'EMSVisual' condition had significantly different average reaction times compared to the 'Control' condition. Specifically, the coefficient for 'EMSVisual' is positive (0.443), indicating that the average reaction time was higher in the 'EMSVisual' condition compared to the 'Control' condition.\n",
    "\n",
    "The 'EMS' and 'Visual' conditions did not significantly affect the average reaction time compared to the 'Control' condition.\n",
    "\n",
    "For ErrorCount, none of the conditions ('EMS', 'EMSVisual', 'Visual') show a significant effect (all p-values > 0.05). This suggests that none of these conditions significantly affect the error count compared to the 'Control' condition."
   ]
  },
  {
   "cell_type": "code",
   "execution_count": 25,
   "metadata": {},
   "outputs": [
    {
     "name": "stdout",
     "output_type": "stream",
     "text": [
      "Avg. Reaction Time\n",
      "   Source        SS  DF        MS         F    p-unc  p-GG-corr       ng2  \\\n",
      "0  Within  1.415319   3  0.471773  2.653693  0.06874   0.104382  0.115985   \n",
      "1   Error  4.800055  27  0.177780       NaN      NaN        NaN       NaN   \n",
      "\n",
      "       eps sphericity   W-spher   p-spher  \n",
      "0  0.60448      False  0.149785  0.012614  \n",
      "1      NaN        NaN       NaN       NaN  \n",
      "Error Count\n",
      "   Source      SS  DF        MS         F     p-unc  p-GG-corr       ng2  \\\n",
      "0  Within   2.875   3  0.958333  0.838057  0.484868   0.446951  0.038655   \n",
      "1   Error  30.875  27  1.143519       NaN       NaN        NaN       NaN   \n",
      "\n",
      "        eps sphericity   W-spher   p-spher  \n",
      "0  0.653595      False  0.213723  0.037395  \n",
      "1       NaN        NaN       NaN       NaN  \n"
     ]
    }
   ],
   "source": [
    "# Import necessary libraries\n",
    "import pandas as pd\n",
    "import pingouin as pg\n",
    "\n",
    "# Load the data\n",
    "df = pd.read_csv('data.csv')\n",
    "\n",
    "# Pivot the dataframe to wide format\n",
    "df_wide_avgReactionTime = df.pivot(index='SubjectID', columns='Condition', values='AvgReactionTime')\n",
    "df_wide_errorCount = df.pivot(index='SubjectID', columns='Condition', values='ErrorCount')\n",
    "\n",
    "# Perform the repeated measures ANOVA\n",
    "aov_avgReactionTime = pg.rm_anova(data=df_wide_avgReactionTime, detailed=True)\n",
    "aov_errorCount = pg.rm_anova(data=df_wide_errorCount, detailed=True)\n",
    "print(\"Avg. Reaction Time\")\n",
    "print(aov_avgReactionTime)\n",
    "print(\"Error Count\")\n",
    "print(aov_errorCount)\n"
   ]
  },
  {
   "cell_type": "markdown",
   "metadata": {},
   "source": [
    "For AvgReactionTime, the p-value (p-unc = 0.06874) is slightly above the typical alpha level of 0.05, suggesting that there is a trend towards a significant effect of Condition on AvgReactionTime, but this effect is not statistically significant. The Greenhouse-Geisser corrected p-value (p-GG-corr = 0.104382) is also not significant, which suggests that the results are robust to violations of the sphericity assumption. The eta-squared (ng2 = 0.115985) is a measure of effect size, and suggests that approximately 11.6% of the variance in AvgReactionTime can be explained by the Condition.\n",
    "\n",
    "For ErrorCount, the p-value (p-unc = 0.484868) is not significant, suggesting that there is no significant effect of Condition on ErrorCount. The Greenhouse-Geisser corrected p-value (p-GG-corr = 0.446951) is also not significant. The eta-squared (ng2 = 0.038655) is a measure of effect size, and suggests that approximately 3.9% of the variance in ErrorCount can be explained by the Condition.\n",
    "\n",
    "In conclusion, these results provide some evidence for differences in average reaction time between the conditions, but these differences are not statistically significant. There is no evidence for a significant effect of Condition on ErrorCount. Further research might be needed to confirm these findings, possibly with a larger sample size or different experimental conditions."
   ]
  },
  {
   "cell_type": "code",
   "execution_count": 18,
   "metadata": {},
   "outputs": [
    {
     "data": {
      "image/png": "[encoded data removed]",
      "text/plain": [
       "<Figure size 864x432 with 2 Axes>"
      ]
     },
     "metadata": {
      "needs_background": "light"
     },
     "output_type": "display_data"
    },
    {
     "data": {
      "image/png": "[encoded data removed]",
      "text/plain": [
       "<Figure size 864x432 with 2 Axes>"
      ]
     },
     "metadata": {
      "needs_background": "light"
     },
     "output_type": "display_data"
    }
   ],
   "source": [
    "# Import necessary libraries\n",
    "import pandas as pd\n",
    "import seaborn as sns\n",
    "import matplotlib.pyplot as plt\n",
    "\n",
    "# Load the data\n",
    "df = pd.read_csv('data.csv')\n",
    "\n",
    "# Create boxplots\n",
    "plt.figure(figsize=(12, 6))\n",
    "plt.subplot(1, 2, 1)\n",
    "sns.boxplot(x='Condition', y='AvgReactionTime', data=df)\n",
    "plt.title('Boxplot of AvgReactionTime by Condition')\n",
    "\n",
    "plt.subplot(1, 2, 2)\n",
    "sns.boxplot(x='Condition', y='ErrorCount', data=df)\n",
    "plt.title('Boxplot of ErrorCount by Condition')\n",
    "\n",
    "plt.tight_layout()\n",
    "plt.show()\n",
    "\n",
    "# Create bar plots\n",
    "plt.figure(figsize=(12, 6))\n",
    "plt.subplot(1, 2, 1)\n",
    "sns.barplot(x='Condition', y='AvgReactionTime', data=df, ci=None)\n",
    "plt.title('Mean AvgReactionTime by Condition')\n",
    "\n",
    "plt.subplot(1, 2, 2)\n",
    "sns.barplot(x='Condition', y='ErrorCount', data=df, ci=None)\n",
    "plt.title('Mean ErrorCount by Condition')\n",
    "\n",
    "plt.tight_layout()\n",
    "plt.show()"
   ]
  },
  {
   "cell_type": "code",
   "execution_count": 29,
   "metadata": {},
   "outputs": [
    {
     "data": {
      "image/png": "[encoded data removed]",
      "text/plain": [
       "<Figure size 864x432 with 2 Axes>"
      ]
     },
     "metadata": {
      "needs_background": "light"
     },
     "output_type": "display_data"
    },
    {
     "data": {
      "image/png": "[encoded data removed]",
      "text/plain": [
       "<Figure size 864x432 with 2 Axes>"
      ]
     },
     "metadata": {
      "needs_background": "light"
     },
     "output_type": "display_data"
    }
   ],
   "source": [
    "# Import necessary libraries\n",
    "import pandas as pd\n",
    "import seaborn as sns\n",
    "import matplotlib.pyplot as plt\n",
    "\n",
    "# Load the data\n",
    "df = pd.read_csv('data.csv')\n",
    "\n",
    "# Create boxplots\n",
    "plt.figure(figsize=(12, 6))\n",
    "plt.subplot(1, 2, 1)\n",
    "sns.boxplot(x='Condition', y='TimeInZoneHigh', data=df)\n",
    "plt.title('Boxplot of TimeInZoneHigh by Condition')\n",
    "\n",
    "plt.subplot(1, 2, 2)\n",
    "sns.boxplot(x='Condition', y='TimeInZoneLow', data=df)\n",
    "plt.title('Boxplot of TimeInZoneLow by Condition')\n",
    "\n",
    "plt.tight_layout()\n",
    "plt.show()\n",
    "\n",
    "# Create bar plots\n",
    "plt.figure(figsize=(12, 6))\n",
    "plt.subplot(1, 2, 1)\n",
    "sns.barplot(x='Condition', y='TimeInZoneHigh', data=df, ci=None)\n",
    "plt.title('Mean TimeInZoneHigh by Condition')\n",
    "\n",
    "plt.subplot(1, 2, 2)\n",
    "sns.barplot(x='Condition', y='TimeInZoneLow', data=df, ci=None)\n",
    "plt.title('Mean TimeInZoneLow by Condition')\n",
    "\n",
    "plt.tight_layout()\n",
    "plt.show()"
   ]
  },
  {
   "cell_type": "code",
   "execution_count": 38,
   "metadata": {},
   "outputs": [
    {
     "name": "stdout",
     "output_type": "stream",
     "text": [
      "   Multiple Comparison of Means - Tukey HSD, FWER=0.05   \n",
      "=========================================================\n",
      "  group1    group2  meandiff p-adj   lower  upper  reject\n",
      "---------------------------------------------------------\n",
      "  Control       EMS      0.2 0.9888 -1.4974 1.8974  False\n",
      "  Control EMSVisual     -0.4 0.9201 -2.0974 1.2974  False\n",
      "  Control    Visual      0.3 0.9639 -1.3974 1.9974  False\n",
      "      EMS EMSVisual     -0.6 0.7771 -2.2974 1.0974  False\n",
      "      EMS    Visual      0.1 0.9986 -1.5974 1.7974  False\n",
      "EMSVisual    Visual      0.7 0.6854 -0.9974 2.3974  False\n",
      "---------------------------------------------------------\n"
     ]
    }
   ],
   "source": [
    "# Import necessary libraries\n",
    "from statsmodels.stats.multicomp import pairwise_tukeyhsd\n",
    "\n",
    "# Perform Tukey HSD post-hoc test\n",
    "posthoc = pairwise_tukeyhsd(df['ErrorCount'], df['Condition'], alpha=0.05)\n",
    "print(posthoc)\n"
   ]
  },
  {
   "cell_type": "code",
   "execution_count": 39,
   "metadata": {},
   "outputs": [
    {
     "name": "stdout",
     "output_type": "stream",
     "text": [
      "                            OLS Regression Results                            \n",
      "==============================================================================\n",
      "Dep. Variable:             ErrorCount   R-squared:                       0.039\n",
      "Model:                            OLS   Adj. R-squared:                 -0.041\n",
      "Method:                 Least Squares   F-statistic:                    0.4825\n",
      "Date:                Thu, 27 Jul 2023   Prob (F-statistic):              0.697\n",
      "Time:                        21:49:11   Log-Likelihood:                -68.374\n",
      "No. Observations:                  40   AIC:                             144.7\n",
      "Df Residuals:                      36   BIC:                             151.5\n",
      "Df Model:                           3                                         \n",
      "Covariance Type:            nonrobust                                         \n",
      "=============================================================================================\n",
      "                                coef    std err          t      P>|t|      [0.025      0.975]\n",
      "---------------------------------------------------------------------------------------------\n",
      "Intercept                     1.1000      0.446      2.468      0.018       0.196       2.004\n",
      "C(Condition)[T.EMS]           0.2000      0.630      0.317      0.753      -1.078       1.478\n",
      "C(Condition)[T.EMSVisual]    -0.4000      0.630     -0.635      0.530      -1.678       0.878\n",
      "C(Condition)[T.Visual]        0.3000      0.630      0.476      0.637      -0.978       1.578\n",
      "==============================================================================\n",
      "Omnibus:                       12.200   Durbin-Watson:                   1.217\n",
      "Prob(Omnibus):                  0.002   Jarque-Bera (JB):               12.322\n",
      "Skew:                           1.306   Prob(JB):                      0.00211\n",
      "Kurtosis:                       3.759   Cond. No.                         4.79\n",
      "==============================================================================\n",
      "\n",
      "Notes:\n",
      "[1] Standard Errors assume that the covariance matrix of the errors is correctly specified.\n"
     ]
    }
   ],
   "source": [
    "# Import necessary libraries\n",
    "import statsmodels.formula.api as smf\n",
    "\n",
    "# Fit the model\n",
    "model = smf.ols('ErrorCount ~ C(Condition)', data=df).fit()\n",
    "\n",
    "# Print the summary\n",
    "print(model.summary())"
   ]
  }
 ],
 "metadata": {
  "kernelspec": {
   "display_name": "Python 3",
   "language": "python",
   "name": "python3"
  },
  "language_info": {
   "codemirror_mode": {
    "name": "ipython",
    "version": 3
   },
   "file_extension": ".py",
   "mimetype": "text/x-python",
   "name": "python",
   "nbconvert_exporter": "python",
   "pygments_lexer": "ipython3",
   "version": "3.10.5"
  },
  "orig_nbformat": 4
 },
 "nbformat": 4,
 "nbformat_minor": 2
}
